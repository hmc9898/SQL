{
 "cells": [
  {
   "cell_type": "markdown",
   "metadata": {},
   "source": [
    "# Zuber Ride Share Analysis in Chicago"
   ]
  },
  {
   "cell_type": "markdown",
   "metadata": {},
   "source": [
    "This project explores taxi trip data in Chicago to identify key trends in ride distribution and popular drop-off locations. Using two datasets, we analyze the number of trips completed by various taxi companies in November, 2017, and determine the most frequent drop-off locations based on the average number of trips in November 2017. The analysis includes inspecting the data, ranking taxi companies, identifying the top drop-off neighborhoods, and visualizing key insights. This analysis will provide valuable insights into the distribution of taxi trips in Chicago, helping  taxi operators and urban planners make data-driven decisions to improve transportation services.\n",
    "\n",
    "Heather Marie Culligan\n",
    "\n",
    "Feb 2025"
   ]
  },
  {
   "cell_type": "markdown",
   "metadata": {},
   "source": [
    "First, I will import helpful libraries that will assist in analysis of the data. Then, I will import the data files used for analysis. Following this I will view the data types and a brief overview of the data using info, head, and describe respectively. "
   ]
  },
  {
   "cell_type": "code",
   "execution_count": 1,
   "metadata": {},
   "outputs": [],
   "source": [
    "import pandas as pd\n",
    "import numpy as np\n",
    "from matplotlib import pyplot as plt\n",
    "from scipy.stats import ttest_ind"
   ]
  },
  {
   "cell_type": "code",
   "execution_count": 2,
   "metadata": {},
   "outputs": [],
   "source": [
    "df1=pd.read_csv('/datasets/project_sql_result_01.csv')\n",
    "df2=pd.read_csv('/datasets/project_sql_result_04.csv')"
   ]
  },
  {
   "cell_type": "code",
   "execution_count": 3,
   "metadata": {},
   "outputs": [
    {
     "name": "stdout",
     "output_type": "stream",
     "text": [
      "<class 'pandas.core.frame.DataFrame'>\n",
      "RangeIndex: 64 entries, 0 to 63\n",
      "Data columns (total 2 columns):\n",
      " #   Column        Non-Null Count  Dtype \n",
      "---  ------        --------------  ----- \n",
      " 0   company_name  64 non-null     object\n",
      " 1   trips_amount  64 non-null     int64 \n",
      "dtypes: int64(1), object(1)\n",
      "memory usage: 1.1+ KB\n"
     ]
    }
   ],
   "source": [
    "df1.info()"
   ]
  },
  {
   "cell_type": "code",
   "execution_count": 4,
   "metadata": {},
   "outputs": [
    {
     "name": "stdout",
     "output_type": "stream",
     "text": [
      "<class 'pandas.core.frame.DataFrame'>\n",
      "RangeIndex: 94 entries, 0 to 93\n",
      "Data columns (total 2 columns):\n",
      " #   Column                 Non-Null Count  Dtype  \n",
      "---  ------                 --------------  -----  \n",
      " 0   dropoff_location_name  94 non-null     object \n",
      " 1   average_trips          94 non-null     float64\n",
      "dtypes: float64(1), object(1)\n",
      "memory usage: 1.6+ KB\n"
     ]
    }
   ],
   "source": [
    "df2.info()"
   ]
  },
  {
   "cell_type": "code",
   "execution_count": 5,
   "metadata": {},
   "outputs": [
    {
     "data": {
      "text/html": [
       "<div>\n",
       "<style scoped>\n",
       "    .dataframe tbody tr th:only-of-type {\n",
       "        vertical-align: middle;\n",
       "    }\n",
       "\n",
       "    .dataframe tbody tr th {\n",
       "        vertical-align: top;\n",
       "    }\n",
       "\n",
       "    .dataframe thead th {\n",
       "        text-align: right;\n",
       "    }\n",
       "</style>\n",
       "<table border=\"1\" class=\"dataframe\">\n",
       "  <thead>\n",
       "    <tr style=\"text-align: right;\">\n",
       "      <th></th>\n",
       "      <th>company_name</th>\n",
       "      <th>trips_amount</th>\n",
       "    </tr>\n",
       "  </thead>\n",
       "  <tbody>\n",
       "    <tr>\n",
       "      <th>0</th>\n",
       "      <td>Flash Cab</td>\n",
       "      <td>19558</td>\n",
       "    </tr>\n",
       "    <tr>\n",
       "      <th>1</th>\n",
       "      <td>Taxi Affiliation Services</td>\n",
       "      <td>11422</td>\n",
       "    </tr>\n",
       "    <tr>\n",
       "      <th>2</th>\n",
       "      <td>Medallion Leasing</td>\n",
       "      <td>10367</td>\n",
       "    </tr>\n",
       "    <tr>\n",
       "      <th>3</th>\n",
       "      <td>Yellow Cab</td>\n",
       "      <td>9888</td>\n",
       "    </tr>\n",
       "    <tr>\n",
       "      <th>4</th>\n",
       "      <td>Taxi Affiliation Service Yellow</td>\n",
       "      <td>9299</td>\n",
       "    </tr>\n",
       "  </tbody>\n",
       "</table>\n",
       "</div>"
      ],
      "text/plain": [
       "                      company_name  trips_amount\n",
       "0                        Flash Cab         19558\n",
       "1        Taxi Affiliation Services         11422\n",
       "2                Medallion Leasing         10367\n",
       "3                       Yellow Cab          9888\n",
       "4  Taxi Affiliation Service Yellow          9299"
      ]
     },
     "execution_count": 5,
     "metadata": {},
     "output_type": "execute_result"
    }
   ],
   "source": [
    "df1.head()"
   ]
  },
  {
   "cell_type": "code",
   "execution_count": 6,
   "metadata": {},
   "outputs": [
    {
     "data": {
      "text/html": [
       "<div>\n",
       "<style scoped>\n",
       "    .dataframe tbody tr th:only-of-type {\n",
       "        vertical-align: middle;\n",
       "    }\n",
       "\n",
       "    .dataframe tbody tr th {\n",
       "        vertical-align: top;\n",
       "    }\n",
       "\n",
       "    .dataframe thead th {\n",
       "        text-align: right;\n",
       "    }\n",
       "</style>\n",
       "<table border=\"1\" class=\"dataframe\">\n",
       "  <thead>\n",
       "    <tr style=\"text-align: right;\">\n",
       "      <th></th>\n",
       "      <th>dropoff_location_name</th>\n",
       "      <th>average_trips</th>\n",
       "    </tr>\n",
       "  </thead>\n",
       "  <tbody>\n",
       "    <tr>\n",
       "      <th>0</th>\n",
       "      <td>Loop</td>\n",
       "      <td>10727.466667</td>\n",
       "    </tr>\n",
       "    <tr>\n",
       "      <th>1</th>\n",
       "      <td>River North</td>\n",
       "      <td>9523.666667</td>\n",
       "    </tr>\n",
       "    <tr>\n",
       "      <th>2</th>\n",
       "      <td>Streeterville</td>\n",
       "      <td>6664.666667</td>\n",
       "    </tr>\n",
       "    <tr>\n",
       "      <th>3</th>\n",
       "      <td>West Loop</td>\n",
       "      <td>5163.666667</td>\n",
       "    </tr>\n",
       "    <tr>\n",
       "      <th>4</th>\n",
       "      <td>O'Hare</td>\n",
       "      <td>2546.900000</td>\n",
       "    </tr>\n",
       "  </tbody>\n",
       "</table>\n",
       "</div>"
      ],
      "text/plain": [
       "  dropoff_location_name  average_trips\n",
       "0                  Loop   10727.466667\n",
       "1           River North    9523.666667\n",
       "2         Streeterville    6664.666667\n",
       "3             West Loop    5163.666667\n",
       "4                O'Hare    2546.900000"
      ]
     },
     "execution_count": 6,
     "metadata": {},
     "output_type": "execute_result"
    }
   ],
   "source": [
    "df2.head()"
   ]
  },
  {
   "cell_type": "code",
   "execution_count": 7,
   "metadata": {},
   "outputs": [
    {
     "data": {
      "text/plain": [
       "company_name    0\n",
       "trips_amount    0\n",
       "dtype: int64"
      ]
     },
     "execution_count": 7,
     "metadata": {},
     "output_type": "execute_result"
    }
   ],
   "source": [
    "df1.isna().sum()"
   ]
  },
  {
   "cell_type": "code",
   "execution_count": 8,
   "metadata": {},
   "outputs": [
    {
     "data": {
      "text/plain": [
       "dropoff_location_name    0\n",
       "average_trips            0\n",
       "dtype: int64"
      ]
     },
     "execution_count": 8,
     "metadata": {},
     "output_type": "execute_result"
    }
   ],
   "source": [
    "df2.isna().sum()"
   ]
  },
  {
   "cell_type": "code",
   "execution_count": 9,
   "metadata": {},
   "outputs": [
    {
     "data": {
      "text/html": [
       "<div>\n",
       "<style scoped>\n",
       "    .dataframe tbody tr th:only-of-type {\n",
       "        vertical-align: middle;\n",
       "    }\n",
       "\n",
       "    .dataframe tbody tr th {\n",
       "        vertical-align: top;\n",
       "    }\n",
       "\n",
       "    .dataframe thead th {\n",
       "        text-align: right;\n",
       "    }\n",
       "</style>\n",
       "<table border=\"1\" class=\"dataframe\">\n",
       "  <thead>\n",
       "    <tr style=\"text-align: right;\">\n",
       "      <th></th>\n",
       "      <th>trips_amount</th>\n",
       "    </tr>\n",
       "  </thead>\n",
       "  <tbody>\n",
       "    <tr>\n",
       "      <th>count</th>\n",
       "      <td>64.000000</td>\n",
       "    </tr>\n",
       "    <tr>\n",
       "      <th>mean</th>\n",
       "      <td>2145.484375</td>\n",
       "    </tr>\n",
       "    <tr>\n",
       "      <th>std</th>\n",
       "      <td>3812.310186</td>\n",
       "    </tr>\n",
       "    <tr>\n",
       "      <th>min</th>\n",
       "      <td>2.000000</td>\n",
       "    </tr>\n",
       "    <tr>\n",
       "      <th>25%</th>\n",
       "      <td>20.750000</td>\n",
       "    </tr>\n",
       "    <tr>\n",
       "      <th>50%</th>\n",
       "      <td>178.500000</td>\n",
       "    </tr>\n",
       "    <tr>\n",
       "      <th>75%</th>\n",
       "      <td>2106.500000</td>\n",
       "    </tr>\n",
       "    <tr>\n",
       "      <th>max</th>\n",
       "      <td>19558.000000</td>\n",
       "    </tr>\n",
       "  </tbody>\n",
       "</table>\n",
       "</div>"
      ],
      "text/plain": [
       "       trips_amount\n",
       "count     64.000000\n",
       "mean    2145.484375\n",
       "std     3812.310186\n",
       "min        2.000000\n",
       "25%       20.750000\n",
       "50%      178.500000\n",
       "75%     2106.500000\n",
       "max    19558.000000"
      ]
     },
     "execution_count": 9,
     "metadata": {},
     "output_type": "execute_result"
    }
   ],
   "source": [
    "df1.describe()"
   ]
  },
  {
   "cell_type": "code",
   "execution_count": 10,
   "metadata": {},
   "outputs": [
    {
     "data": {
      "text/html": [
       "<div>\n",
       "<style scoped>\n",
       "    .dataframe tbody tr th:only-of-type {\n",
       "        vertical-align: middle;\n",
       "    }\n",
       "\n",
       "    .dataframe tbody tr th {\n",
       "        vertical-align: top;\n",
       "    }\n",
       "\n",
       "    .dataframe thead th {\n",
       "        text-align: right;\n",
       "    }\n",
       "</style>\n",
       "<table border=\"1\" class=\"dataframe\">\n",
       "  <thead>\n",
       "    <tr style=\"text-align: right;\">\n",
       "      <th></th>\n",
       "      <th>average_trips</th>\n",
       "    </tr>\n",
       "  </thead>\n",
       "  <tbody>\n",
       "    <tr>\n",
       "      <th>count</th>\n",
       "      <td>94.000000</td>\n",
       "    </tr>\n",
       "    <tr>\n",
       "      <th>mean</th>\n",
       "      <td>599.953728</td>\n",
       "    </tr>\n",
       "    <tr>\n",
       "      <th>std</th>\n",
       "      <td>1714.591098</td>\n",
       "    </tr>\n",
       "    <tr>\n",
       "      <th>min</th>\n",
       "      <td>1.800000</td>\n",
       "    </tr>\n",
       "    <tr>\n",
       "      <th>25%</th>\n",
       "      <td>14.266667</td>\n",
       "    </tr>\n",
       "    <tr>\n",
       "      <th>50%</th>\n",
       "      <td>52.016667</td>\n",
       "    </tr>\n",
       "    <tr>\n",
       "      <th>75%</th>\n",
       "      <td>298.858333</td>\n",
       "    </tr>\n",
       "    <tr>\n",
       "      <th>max</th>\n",
       "      <td>10727.466667</td>\n",
       "    </tr>\n",
       "  </tbody>\n",
       "</table>\n",
       "</div>"
      ],
      "text/plain": [
       "       average_trips\n",
       "count      94.000000\n",
       "mean      599.953728\n",
       "std      1714.591098\n",
       "min         1.800000\n",
       "25%        14.266667\n",
       "50%        52.016667\n",
       "75%       298.858333\n",
       "max     10727.466667"
      ]
     },
     "execution_count": 10,
     "metadata": {},
     "output_type": "execute_result"
    }
   ],
   "source": [
    "df2.describe()"
   ]
  },
  {
   "cell_type": "code",
   "execution_count": 11,
   "metadata": {},
   "outputs": [
    {
     "data": {
      "text/plain": [
       "0"
      ]
     },
     "execution_count": 11,
     "metadata": {},
     "output_type": "execute_result"
    }
   ],
   "source": [
    "df1.duplicated().sum()"
   ]
  },
  {
   "cell_type": "code",
   "execution_count": 12,
   "metadata": {},
   "outputs": [
    {
     "data": {
      "text/plain": [
       "0"
      ]
     },
     "execution_count": 12,
     "metadata": {},
     "output_type": "execute_result"
    }
   ],
   "source": [
    "df2.duplicated().sum()"
   ]
  },
  {
   "cell_type": "markdown",
   "metadata": {},
   "source": [
    "After viewing the data, it appears all data types are correct. Let’s start to  visualize the data:"
   ]
  },
  {
   "cell_type": "code",
   "execution_count": 13,
   "metadata": {},
   "outputs": [
    {
     "name": "stdout",
     "output_type": "stream",
     "text": [
      "  dropoff_location_name  average_trips\n",
      "0                  Loop   10727.466667\n",
      "1           River North    9523.666667\n",
      "2         Streeterville    6664.666667\n",
      "3             West Loop    5163.666667\n",
      "4                O'Hare    2546.900000\n",
      "5             Lake View    2420.966667\n",
      "6            Grant Park    2068.533333\n",
      "7         Museum Campus    1510.000000\n",
      "8            Gold Coast    1364.233333\n",
      "9    Sheffield & DePaul    1259.766667\n"
     ]
    }
   ],
   "source": [
    "top10_neighborhoods=df2.nlargest(10, 'average_trips')\n",
    "print(top10_neighborhoods)"
   ]
  },
  {
   "cell_type": "code",
   "execution_count": 14,
   "metadata": {
    "scrolled": false
   },
   "outputs": [
    {
     "data": {
      "image/png": "[encoded data removed]",
      "text/plain": [
       "<Figure size 1200x600 with 1 Axes>"
      ]
     },
     "metadata": {},
     "output_type": "display_data"
    }
   ],
   "source": [
    "plt.figure(figsize=(12,6))\n",
    "df1_sorted = df1.sort_values(by='trips_amount', ascending=False).head(10)\n",
    "plt.barh(df1_sorted['company_name'], df1_sorted['trips_amount'])\n",
    "plt.xlabel(\"Number of Rides\")\n",
    "plt.ylabel(\"Taxi Companies\")\n",
    "plt.title(\"Top 10 Taxi Companies by Number of Rides\")\n",
    "plt.gca().invert_yaxis() \n",
    "plt.show()"
   ]
  },
  {
   "cell_type": "markdown",
   "metadata": {},
   "source": [
    "The analysis shows that a few major taxi companies, like Flash Cab and Taxi Affiliation Services, dominate the market, while smaller companies handle fewer trips. Most drop-offs occur in busy areas like Loop, River North, and Streeterville, with O’Hare Airport also seeing high demand. Some residential areas, like Lake View, have notable taxi use, likely due to commuting and nightlife. These findings suggest that taxis are most needed in business and travel hubs, and smaller companies may need better strategies to compete."
   ]
  },
  {
   "cell_type": "code",
   "execution_count": 15,
   "metadata": {},
   "outputs": [
    {
     "data": {
      "image/png": "[encoded data removed]",
      "text/plain": [
       "<Figure size 640x480 with 1 Axes>"
      ]
     },
     "metadata": {},
     "output_type": "display_data"
    },
    {
     "data": {
      "text/plain": [
       "<Figure size 1200x600 with 0 Axes>"
      ]
     },
     "metadata": {},
     "output_type": "display_data"
    }
   ],
   "source": [
    "plt.barh(top10_neighborhoods['dropoff_location_name'], top10_neighborhoods['average_trips'])\n",
    "plt.xlabel(\"Average Number of Drop-offs\")\n",
    "plt.ylabel(\"Neighborhoods\")\n",
    "plt.title(\"Top 10 Neighborhoods by Number of Drop-offs in Novemeber\")\n",
    "plt.figure(figsize=(12,6))\n",
    "plt.show()"
   ]
  },
  {
   "cell_type": "markdown",
   "metadata": {},
   "source": [
    "The analysis shows that taxi drop-offs are highest in Loop, River North, and Streeterville, likely due to offices, hotels, and nightlife attractions. O’Hare International Airport also sees heavy taxi traffic, reflecting the demand for airport transfers. Some residential areas like Lake View have notable taxi use, possibly due to commuters and nightlife. Overall, taxis are most used in busy commercial and travel hubs, with lower demand in outer neighborhoods."
   ]
  },
  {
   "cell_type": "markdown",
   "metadata": {},
   "source": [
    "Testing a hypothesis:"
   ]
  },
  {
   "cell_type": "code",
   "execution_count": 16,
   "metadata": {},
   "outputs": [],
   "source": [
    "df3=pd.read_csv('/datasets/project_sql_result_07.csv')"
   ]
  },
  {
   "cell_type": "code",
   "execution_count": 17,
   "metadata": {},
   "outputs": [
    {
     "name": "stdout",
     "output_type": "stream",
     "text": [
      "<class 'pandas.core.frame.DataFrame'>\n",
      "RangeIndex: 1068 entries, 0 to 1067\n",
      "Data columns (total 3 columns):\n",
      " #   Column              Non-Null Count  Dtype  \n",
      "---  ------              --------------  -----  \n",
      " 0   start_ts            1068 non-null   object \n",
      " 1   weather_conditions  1068 non-null   object \n",
      " 2   duration_seconds    1068 non-null   float64\n",
      "dtypes: float64(1), object(2)\n",
      "memory usage: 25.2+ KB\n"
     ]
    }
   ],
   "source": [
    "df3.info()"
   ]
  },
  {
   "cell_type": "code",
   "execution_count": 18,
   "metadata": {},
   "outputs": [
    {
     "data": {
      "text/plain": [
       "start_ts              0\n",
       "weather_conditions    0\n",
       "duration_seconds      0\n",
       "dtype: int64"
      ]
     },
     "execution_count": 18,
     "metadata": {},
     "output_type": "execute_result"
    }
   ],
   "source": [
    "df3.isna().sum()"
   ]
  },
  {
   "cell_type": "code",
   "execution_count": 29,
   "metadata": {},
   "outputs": [
    {
     "data": {
      "text/plain": [
       "197"
      ]
     },
     "execution_count": 29,
     "metadata": {},
     "output_type": "execute_result"
    }
   ],
   "source": [
    "df3.duplicated().sum()"
   ]
  },
  {
   "cell_type": "markdown",
   "metadata": {},
   "source": [
    "We see there may be duplicates but due to rounding of the original data we cannot be sure if they are true duplicates. We will leave them in as to not distort the data. "
   ]
  },
  {
   "cell_type": "code",
   "execution_count": 19,
   "metadata": {},
   "outputs": [
    {
     "data": {
      "text/html": [
       "<div>\n",
       "<style scoped>\n",
       "    .dataframe tbody tr th:only-of-type {\n",
       "        vertical-align: middle;\n",
       "    }\n",
       "\n",
       "    .dataframe tbody tr th {\n",
       "        vertical-align: top;\n",
       "    }\n",
       "\n",
       "    .dataframe thead th {\n",
       "        text-align: right;\n",
       "    }\n",
       "</style>\n",
       "<table border=\"1\" class=\"dataframe\">\n",
       "  <thead>\n",
       "    <tr style=\"text-align: right;\">\n",
       "      <th></th>\n",
       "      <th>duration_seconds</th>\n",
       "    </tr>\n",
       "  </thead>\n",
       "  <tbody>\n",
       "    <tr>\n",
       "      <th>count</th>\n",
       "      <td>1068.000000</td>\n",
       "    </tr>\n",
       "    <tr>\n",
       "      <th>mean</th>\n",
       "      <td>2071.731273</td>\n",
       "    </tr>\n",
       "    <tr>\n",
       "      <th>std</th>\n",
       "      <td>769.461125</td>\n",
       "    </tr>\n",
       "    <tr>\n",
       "      <th>min</th>\n",
       "      <td>0.000000</td>\n",
       "    </tr>\n",
       "    <tr>\n",
       "      <th>25%</th>\n",
       "      <td>1438.250000</td>\n",
       "    </tr>\n",
       "    <tr>\n",
       "      <th>50%</th>\n",
       "      <td>1980.000000</td>\n",
       "    </tr>\n",
       "    <tr>\n",
       "      <th>75%</th>\n",
       "      <td>2580.000000</td>\n",
       "    </tr>\n",
       "    <tr>\n",
       "      <th>max</th>\n",
       "      <td>7440.000000</td>\n",
       "    </tr>\n",
       "  </tbody>\n",
       "</table>\n",
       "</div>"
      ],
      "text/plain": [
       "       duration_seconds\n",
       "count       1068.000000\n",
       "mean        2071.731273\n",
       "std          769.461125\n",
       "min            0.000000\n",
       "25%         1438.250000\n",
       "50%         1980.000000\n",
       "75%         2580.000000\n",
       "max         7440.000000"
      ]
     },
     "execution_count": 19,
     "metadata": {},
     "output_type": "execute_result"
    }
   ],
   "source": [
    "df3.describe()"
   ]
  },
  {
   "cell_type": "code",
   "execution_count": 20,
   "metadata": {},
   "outputs": [
    {
     "name": "stdout",
     "output_type": "stream",
     "text": [
      "['Good' 'Bad']\n"
     ]
    }
   ],
   "source": [
    "print(df3['weather_conditions'].unique())"
   ]
  },
  {
   "cell_type": "code",
   "execution_count": 21,
   "metadata": {},
   "outputs": [],
   "source": [
    "df3['start_ts']= pd.to_datetime(df3['start_ts'])\n",
    "df3['day_of_week']= df3['start_ts'].dt.day_name()\n",
    "saturday_rides= df3[df3['day_of_week'] == 'Saturday']"
   ]
  },
  {
   "cell_type": "code",
   "execution_count": 22,
   "metadata": {},
   "outputs": [
    {
     "name": "stdout",
     "output_type": "stream",
     "text": [
      "                start_ts weather_conditions  duration_seconds day_of_week\n",
      "0    2017-11-25 16:00:00               Good            2410.0    Saturday\n",
      "1    2017-11-25 14:00:00               Good            1920.0    Saturday\n",
      "2    2017-11-25 12:00:00               Good            1543.0    Saturday\n",
      "3    2017-11-04 10:00:00               Good            2512.0    Saturday\n",
      "4    2017-11-11 07:00:00               Good            1440.0    Saturday\n",
      "...                  ...                ...               ...         ...\n",
      "1063 2017-11-25 11:00:00               Good               0.0    Saturday\n",
      "1064 2017-11-11 10:00:00               Good            1318.0    Saturday\n",
      "1065 2017-11-11 13:00:00               Good            2100.0    Saturday\n",
      "1066 2017-11-11 08:00:00               Good            1380.0    Saturday\n",
      "1067 2017-11-04 16:00:00                Bad            2834.0    Saturday\n",
      "\n",
      "[1068 rows x 4 columns]\n"
     ]
    }
   ],
   "source": [
    "print(saturday_rides)"
   ]
  },
  {
   "cell_type": "code",
   "execution_count": 23,
   "metadata": {},
   "outputs": [
    {
     "name": "stdout",
     "output_type": "stream",
     "text": [
      "<class 'pandas.core.frame.DataFrame'>\n",
      "Int64Index: 180 entries, 6 to 1067\n",
      "Data columns (total 4 columns):\n",
      " #   Column              Non-Null Count  Dtype         \n",
      "---  ------              --------------  -----         \n",
      " 0   start_ts            180 non-null    datetime64[ns]\n",
      " 1   weather_conditions  180 non-null    object        \n",
      " 2   duration_seconds    180 non-null    float64       \n",
      " 3   day_of_week         180 non-null    object        \n",
      "dtypes: datetime64[ns](1), float64(1), object(2)\n",
      "memory usage: 7.0+ KB\n"
     ]
    }
   ],
   "source": [
    "bad_weather_saturday_rides= saturday_rides[saturday_rides['weather_conditions'] == 'Bad']\n",
    "bad_weather_saturday_rides.info()"
   ]
  },
  {
   "cell_type": "code",
   "execution_count": 24,
   "metadata": {},
   "outputs": [
    {
     "name": "stdout",
     "output_type": "stream",
     "text": [
      "<class 'pandas.core.frame.DataFrame'>\n",
      "Int64Index: 888 entries, 0 to 1066\n",
      "Data columns (total 4 columns):\n",
      " #   Column              Non-Null Count  Dtype         \n",
      "---  ------              --------------  -----         \n",
      " 0   start_ts            888 non-null    datetime64[ns]\n",
      " 1   weather_conditions  888 non-null    object        \n",
      " 2   duration_seconds    888 non-null    float64       \n",
      " 3   day_of_week         888 non-null    object        \n",
      "dtypes: datetime64[ns](1), float64(1), object(2)\n",
      "memory usage: 34.7+ KB\n"
     ]
    }
   ],
   "source": [
    "good_weather_saturday_rides= saturday_rides[saturday_rides['weather_conditions'] == 'Good']\n",
    "good_weather_saturday_rides.info()"
   ]
  },
  {
   "cell_type": "code",
   "execution_count": 25,
   "metadata": {},
   "outputs": [],
   "source": [
    "good_weather_saturday_rides = good_weather_saturday_rides.dropna(subset=['duration_seconds'])\n",
    "bad_weather_saturday_rides = bad_weather_saturday_rides.dropna(subset=['duration_seconds'])"
   ]
  },
  {
   "cell_type": "code",
   "execution_count": 26,
   "metadata": {},
   "outputs": [
    {
     "name": "stdout",
     "output_type": "stream",
     "text": [
      "<class 'pandas.core.frame.DataFrame'>\n",
      "Int64Index: 888 entries, 0 to 1066\n",
      "Data columns (total 4 columns):\n",
      " #   Column              Non-Null Count  Dtype         \n",
      "---  ------              --------------  -----         \n",
      " 0   start_ts            888 non-null    datetime64[ns]\n",
      " 1   weather_conditions  888 non-null    object        \n",
      " 2   duration_seconds    888 non-null    float64       \n",
      " 3   day_of_week         888 non-null    object        \n",
      "dtypes: datetime64[ns](1), float64(1), object(2)\n",
      "memory usage: 34.7+ KB\n"
     ]
    }
   ],
   "source": [
    "good_weather_saturday_rides.info()"
   ]
  },
  {
   "cell_type": "code",
   "execution_count": 27,
   "metadata": {},
   "outputs": [
    {
     "name": "stdout",
     "output_type": "stream",
     "text": [
      "<class 'pandas.core.frame.DataFrame'>\n",
      "Int64Index: 180 entries, 6 to 1067\n",
      "Data columns (total 4 columns):\n",
      " #   Column              Non-Null Count  Dtype         \n",
      "---  ------              --------------  -----         \n",
      " 0   start_ts            180 non-null    datetime64[ns]\n",
      " 1   weather_conditions  180 non-null    object        \n",
      " 2   duration_seconds    180 non-null    float64       \n",
      " 3   day_of_week         180 non-null    object        \n",
      "dtypes: datetime64[ns](1), float64(1), object(2)\n",
      "memory usage: 7.0+ KB\n"
     ]
    }
   ],
   "source": [
    "bad_weather_saturday_rides.info()"
   ]
  },
  {
   "cell_type": "markdown",
   "metadata": {},
   "source": [
    "Null hypothesis(H0): The average ride duration from the Loop to O'Hare does not change on rainy Saturdays compared to other Saturdays.\n",
    "Alternate hypothesis(H1): The average ride duration changes on rainy Saturdays.\n",
    "\n",
    "Significance level: set to 0.05 to minimize chances of false positives."
   ]
  },
  {
   "cell_type": "code",
   "execution_count": 28,
   "metadata": {},
   "outputs": [
    {
     "data": {
      "text/plain": [
       "(-6.946177714041499,\n",
       " 6.517970327099473e-12,\n",
       " 'Since the p-value (6.52e-12) is less than the significance level (0.05), we reject the null hypothesis.')"
      ]
     },
     "execution_count": 28,
     "metadata": {},
     "output_type": "execute_result"
    }
   ],
   "source": [
    "alpha = 0.05\n",
    "t_stat, p_value = ttest_ind(\n",
    "    good_weather_saturday_rides['duration_seconds'],\n",
    "    bad_weather_saturday_rides['duration_seconds'],\n",
    "    equal_var=True \n",
    ")\n",
    "t_stat, p_value, f\"Since the p-value ({p_value:.2e}) is {'less' if p_value < alpha else 'greater'} than the significance level ({alpha}), we {'reject' if p_value < alpha else 'fail to reject'} the null hypothesis.\""
   ]
  },
  {
   "cell_type": "markdown",
   "metadata": {},
   "source": [
    "Since the p-value is much smaller than 0.05, we reject the null hypothesis, meaning that ride durations on bad weather Saturdays are significantly different from those on good weather Saturdays.\n",
    "\n",
    "\n"
   ]
  },
  {
   "cell_type": "markdown",
   "metadata": {},
   "source": [
    "This project analyzed taxi ride data from Chicago, focusing on ride distribution, top drop-off locations, and the impact of weather conditions on travel time. The findings revealed that a few major taxi companies dominate the market, with most drop-offs occurring in busy commercial and travel hubs like Loop, River North, and O’Hare Airport.\n",
    "\n",
    "A key hypothesis test examined whether ride durations from the Loop to O’Hare change on bad weather Saturdays. Using an independent t-test, we found a statistically significant difference in ride durations, leading us to reject the null hypothesis. This suggests that bad weather conditions affect travel times, likely due to factors such as traffic congestion, slower driving speeds, and reduced visibility.\n",
    "\n",
    "These insights can help taxi operators optimize fleet distribution, urban planners improve transportation infrastructure, and commuters better anticipate travel delays under different weather conditions."
   ]
  }
 ],
 "metadata": {
  "ExecuteTimeLog": [
   {
    "duration": 7,
    "start_time": "2025-02-02T21:43:16.978Z"
   },
   {
    "duration": 2143,
    "start_time": "2025-02-02T21:43:21.364Z"
   },
   {
    "duration": 214,
    "start_time": "2025-02-02T21:48:24.266Z"
   },
   {
    "duration": 2,
    "start_time": "2025-02-02T21:48:43.304Z"
   },
   {
    "duration": 14,
    "start_time": "2025-02-02T21:48:43.792Z"
   },
   {
    "duration": 9,
    "start_time": "2025-02-02T21:52:35.056Z"
   },
   {
    "duration": 8,
    "start_time": "2025-02-02T21:52:40.335Z"
   },
   {
    "duration": 8,
    "start_time": "2025-02-02T21:53:16.942Z"
   },
   {
    "duration": 8,
    "start_time": "2025-02-02T21:53:25.383Z"
   },
   {
    "duration": 15,
    "start_time": "2025-02-02T21:53:42.864Z"
   },
   {
    "duration": 13,
    "start_time": "2025-02-02T21:53:46.147Z"
   },
   {
    "duration": 6,
    "start_time": "2025-02-02T21:53:54.161Z"
   },
   {
    "duration": 5,
    "start_time": "2025-02-02T21:54:02.119Z"
   },
   {
    "duration": 10,
    "start_time": "2025-02-02T22:05:23.634Z"
   },
   {
    "duration": 8,
    "start_time": "2025-02-02T22:05:31.125Z"
   },
   {
    "duration": 505,
    "start_time": "2025-02-02T22:10:25.517Z"
   },
   {
    "duration": 51,
    "start_time": "2025-02-02T22:10:33.700Z"
   },
   {
    "duration": 6,
    "start_time": "2025-02-02T22:10:40.745Z"
   },
   {
    "duration": 13,
    "start_time": "2025-02-02T22:20:33.000Z"
   },
   {
    "duration": 18,
    "start_time": "2025-02-02T22:21:08.314Z"
   },
   {
    "duration": 3,
    "start_time": "2025-02-02T22:21:24.370Z"
   },
   {
    "duration": 6,
    "start_time": "2025-02-02T22:22:41.727Z"
   },
   {
    "duration": 136,
    "start_time": "2025-02-02T22:23:52.985Z"
   },
   {
    "duration": 130,
    "start_time": "2025-02-02T22:24:17.000Z"
   },
   {
    "duration": 130,
    "start_time": "2025-02-02T22:24:22.801Z"
   },
   {
    "duration": 136,
    "start_time": "2025-02-02T22:24:31.108Z"
   },
   {
    "duration": 146,
    "start_time": "2025-02-02T22:25:50.185Z"
   },
   {
    "duration": 147,
    "start_time": "2025-02-02T22:26:22.345Z"
   },
   {
    "duration": 215,
    "start_time": "2025-02-02T22:26:34.413Z"
   },
   {
    "duration": 221,
    "start_time": "2025-02-02T22:26:42.390Z"
   },
   {
    "duration": 152,
    "start_time": "2025-02-02T22:26:48.523Z"
   },
   {
    "duration": 145,
    "start_time": "2025-02-02T22:26:57.249Z"
   },
   {
    "duration": 149,
    "start_time": "2025-02-02T22:27:15.390Z"
   },
   {
    "duration": 246,
    "start_time": "2025-02-02T22:34:42.768Z"
   },
   {
    "duration": 235,
    "start_time": "2025-02-02T22:36:00.496Z"
   },
   {
    "duration": 125,
    "start_time": "2025-02-02T22:36:13.394Z"
   },
   {
    "duration": 226,
    "start_time": "2025-02-02T22:36:22.827Z"
   },
   {
    "duration": 123,
    "start_time": "2025-02-02T22:36:32.374Z"
   },
   {
    "duration": 9,
    "start_time": "2025-02-02T23:21:01.327Z"
   },
   {
    "duration": 14,
    "start_time": "2025-02-02T23:22:09.148Z"
   },
   {
    "duration": 6,
    "start_time": "2025-02-02T23:22:13.935Z"
   },
   {
    "duration": 7,
    "start_time": "2025-02-02T23:22:56.739Z"
   },
   {
    "duration": 10,
    "start_time": "2025-02-02T23:23:12.807Z"
   },
   {
    "duration": 3,
    "start_time": "2025-02-02T23:28:52.918Z"
   },
   {
    "duration": 9,
    "start_time": "2025-02-02T23:29:07.905Z"
   },
   {
    "duration": 337,
    "start_time": "2025-02-02T23:39:31.133Z"
   },
   {
    "duration": 43,
    "start_time": "2025-02-02T23:39:59.349Z"
   },
   {
    "duration": 4,
    "start_time": "2025-02-02T23:40:28.644Z"
   },
   {
    "duration": 5,
    "start_time": "2025-02-02T23:40:31.136Z"
   },
   {
    "duration": 3,
    "start_time": "2025-02-02T23:43:13.211Z"
   },
   {
    "duration": 3,
    "start_time": "2025-02-02T23:43:22.907Z"
   },
   {
    "duration": 4,
    "start_time": "2025-02-02T23:43:31.561Z"
   },
   {
    "duration": 5,
    "start_time": "2025-02-02T23:43:54.358Z"
   },
   {
    "duration": 5,
    "start_time": "2025-02-02T23:43:59.988Z"
   },
   {
    "duration": 6,
    "start_time": "2025-02-02T23:50:46.165Z"
   },
   {
    "duration": 8,
    "start_time": "2025-02-02T23:52:03.395Z"
   },
   {
    "duration": 3,
    "start_time": "2025-02-02T23:53:11.879Z"
   },
   {
    "duration": 13,
    "start_time": "2025-02-02T23:53:41.022Z"
   },
   {
    "duration": 9,
    "start_time": "2025-02-02T23:54:05.052Z"
   },
   {
    "duration": 10,
    "start_time": "2025-02-02T23:54:15.273Z"
   },
   {
    "duration": 10,
    "start_time": "2025-02-02T23:54:37.001Z"
   },
   {
    "duration": 7,
    "start_time": "2025-02-02T23:54:41.458Z"
   },
   {
    "duration": 9,
    "start_time": "2025-02-02T23:54:42.079Z"
   },
   {
    "duration": 9,
    "start_time": "2025-02-02T23:54:42.885Z"
   },
   {
    "duration": 720,
    "start_time": "2025-02-02T23:54:51.826Z"
   },
   {
    "duration": 8,
    "start_time": "2025-02-02T23:54:52.549Z"
   },
   {
    "duration": 8,
    "start_time": "2025-02-02T23:54:52.559Z"
   },
   {
    "duration": 9,
    "start_time": "2025-02-02T23:54:52.569Z"
   },
   {
    "duration": 7,
    "start_time": "2025-02-02T23:54:52.582Z"
   },
   {
    "duration": 6,
    "start_time": "2025-02-02T23:54:52.592Z"
   },
   {
    "duration": 5,
    "start_time": "2025-02-02T23:54:52.599Z"
   },
   {
    "duration": 4,
    "start_time": "2025-02-02T23:54:52.606Z"
   },
   {
    "duration": 9,
    "start_time": "2025-02-02T23:54:52.644Z"
   },
   {
    "duration": 10,
    "start_time": "2025-02-02T23:54:52.654Z"
   },
   {
    "duration": 9,
    "start_time": "2025-02-02T23:54:52.666Z"
   },
   {
    "duration": 178,
    "start_time": "2025-02-02T23:54:52.678Z"
   },
   {
    "duration": 141,
    "start_time": "2025-02-02T23:54:52.859Z"
   },
   {
    "duration": 6,
    "start_time": "2025-02-02T23:54:53.003Z"
   },
   {
    "duration": 9,
    "start_time": "2025-02-02T23:54:53.010Z"
   },
   {
    "duration": 4,
    "start_time": "2025-02-02T23:54:53.020Z"
   },
   {
    "duration": 6,
    "start_time": "2025-02-02T23:54:53.043Z"
   },
   {
    "duration": 6,
    "start_time": "2025-02-02T23:54:53.051Z"
   },
   {
    "duration": 9,
    "start_time": "2025-02-02T23:54:53.058Z"
   },
   {
    "duration": 9,
    "start_time": "2025-02-02T23:54:53.068Z"
   },
   {
    "duration": 6,
    "start_time": "2025-02-02T23:54:53.078Z"
   },
   {
    "duration": 8,
    "start_time": "2025-02-02T23:54:53.085Z"
   },
   {
    "duration": 8,
    "start_time": "2025-02-02T23:54:53.094Z"
   },
   {
    "duration": 43,
    "start_time": "2025-02-02T23:54:53.103Z"
   },
   {
    "duration": 10,
    "start_time": "2025-02-02T23:55:39.619Z"
   },
   {
    "duration": 791,
    "start_time": "2025-02-02T23:55:48.682Z"
   },
   {
    "duration": 8,
    "start_time": "2025-02-02T23:55:49.477Z"
   },
   {
    "duration": 8,
    "start_time": "2025-02-02T23:55:49.486Z"
   },
   {
    "duration": 7,
    "start_time": "2025-02-02T23:55:49.496Z"
   },
   {
    "duration": 7,
    "start_time": "2025-02-02T23:55:49.505Z"
   },
   {
    "duration": 30,
    "start_time": "2025-02-02T23:55:49.513Z"
   },
   {
    "duration": 5,
    "start_time": "2025-02-02T23:55:49.545Z"
   },
   {
    "duration": 5,
    "start_time": "2025-02-02T23:55:49.552Z"
   },
   {
    "duration": 8,
    "start_time": "2025-02-02T23:55:49.559Z"
   },
   {
    "duration": 8,
    "start_time": "2025-02-02T23:55:49.569Z"
   },
   {
    "duration": 5,
    "start_time": "2025-02-02T23:55:49.578Z"
   },
   {
    "duration": 194,
    "start_time": "2025-02-02T23:55:49.584Z"
   },
   {
    "duration": 136,
    "start_time": "2025-02-02T23:55:49.779Z"
   },
   {
    "duration": 6,
    "start_time": "2025-02-02T23:55:49.918Z"
   },
   {
    "duration": 17,
    "start_time": "2025-02-02T23:55:49.925Z"
   },
   {
    "duration": 8,
    "start_time": "2025-02-02T23:55:49.944Z"
   },
   {
    "duration": 4,
    "start_time": "2025-02-02T23:55:49.953Z"
   },
   {
    "duration": 6,
    "start_time": "2025-02-02T23:55:49.958Z"
   },
   {
    "duration": 6,
    "start_time": "2025-02-02T23:55:49.965Z"
   },
   {
    "duration": 8,
    "start_time": "2025-02-02T23:55:49.973Z"
   },
   {
    "duration": 8,
    "start_time": "2025-02-02T23:55:49.983Z"
   },
   {
    "duration": 5,
    "start_time": "2025-02-02T23:55:49.993Z"
   },
   {
    "duration": 44,
    "start_time": "2025-02-02T23:55:50.000Z"
   },
   {
    "duration": 7,
    "start_time": "2025-02-02T23:55:50.046Z"
   },
   {
    "duration": 5,
    "start_time": "2025-02-02T23:55:50.055Z"
   },
   {
    "duration": 157,
    "start_time": "2025-02-03T23:08:45.392Z"
   },
   {
    "duration": 11,
    "start_time": "2025-02-03T23:09:08.967Z"
   },
   {
    "duration": 11,
    "start_time": "2025-02-03T23:09:13.047Z"
   },
   {
    "duration": 14,
    "start_time": "2025-02-03T23:12:19.029Z"
   },
   {
    "duration": 2589,
    "start_time": "2025-02-03T23:12:35.633Z"
   },
   {
    "duration": 21,
    "start_time": "2025-02-03T23:12:38.226Z"
   },
   {
    "duration": 11,
    "start_time": "2025-02-03T23:12:38.249Z"
   },
   {
    "duration": 8,
    "start_time": "2025-02-03T23:12:38.262Z"
   },
   {
    "duration": 7,
    "start_time": "2025-02-03T23:12:38.273Z"
   },
   {
    "duration": 6,
    "start_time": "2025-02-03T23:12:38.282Z"
   },
   {
    "duration": 6,
    "start_time": "2025-02-03T23:12:38.290Z"
   },
   {
    "duration": 5,
    "start_time": "2025-02-03T23:12:38.297Z"
   },
   {
    "duration": 11,
    "start_time": "2025-02-03T23:12:38.331Z"
   },
   {
    "duration": 9,
    "start_time": "2025-02-03T23:12:38.344Z"
   },
   {
    "duration": 5,
    "start_time": "2025-02-03T23:12:38.355Z"
   },
   {
    "duration": 6,
    "start_time": "2025-02-03T23:12:38.362Z"
   },
   {
    "duration": 193,
    "start_time": "2025-02-03T23:12:38.370Z"
   },
   {
    "duration": 137,
    "start_time": "2025-02-03T23:12:38.566Z"
   },
   {
    "duration": 8,
    "start_time": "2025-02-03T23:12:38.705Z"
   },
   {
    "duration": 17,
    "start_time": "2025-02-03T23:12:38.715Z"
   },
   {
    "duration": 9,
    "start_time": "2025-02-03T23:12:38.734Z"
   },
   {
    "duration": 3,
    "start_time": "2025-02-03T23:12:38.744Z"
   },
   {
    "duration": 6,
    "start_time": "2025-02-03T23:12:38.749Z"
   },
   {
    "duration": 6,
    "start_time": "2025-02-03T23:12:38.756Z"
   },
   {
    "duration": 8,
    "start_time": "2025-02-03T23:12:38.764Z"
   },
   {
    "duration": 10,
    "start_time": "2025-02-03T23:12:38.773Z"
   },
   {
    "duration": 6,
    "start_time": "2025-02-03T23:12:38.785Z"
   },
   {
    "duration": 9,
    "start_time": "2025-02-03T23:12:38.832Z"
   },
   {
    "duration": 8,
    "start_time": "2025-02-03T23:12:38.842Z"
   },
   {
    "duration": 5,
    "start_time": "2025-02-03T23:12:38.852Z"
   },
   {
    "duration": 793,
    "start_time": "2025-02-03T23:12:52.286Z"
   },
   {
    "duration": 248,
    "start_time": "2025-02-03T23:13:05.920Z"
   },
   {
    "duration": 185,
    "start_time": "2025-02-03T23:13:37.961Z"
   },
   {
    "duration": 13,
    "start_time": "2025-02-03T23:16:13.356Z"
   },
   {
    "duration": 5,
    "start_time": "2025-02-03T23:16:17.540Z"
   },
   {
    "duration": 20,
    "start_time": "2025-02-03T23:20:16.148Z"
   },
   {
    "duration": 17,
    "start_time": "2025-02-03T23:20:20.265Z"
   },
   {
    "duration": 4,
    "start_time": "2025-02-03T23:21:23.498Z"
   },
   {
    "duration": 5,
    "start_time": "2025-02-03T23:21:29.600Z"
   },
   {
    "duration": 5,
    "start_time": "2025-02-03T23:21:38.447Z"
   },
   {
    "duration": 7,
    "start_time": "2025-02-03T23:21:39.130Z"
   },
   {
    "duration": 5,
    "start_time": "2025-02-03T23:22:08.670Z"
   },
   {
    "duration": 797,
    "start_time": "2025-02-03T23:22:27.050Z"
   },
   {
    "duration": 11,
    "start_time": "2025-02-03T23:22:27.856Z"
   },
   {
    "duration": 9,
    "start_time": "2025-02-03T23:22:27.869Z"
   },
   {
    "duration": 8,
    "start_time": "2025-02-03T23:22:27.879Z"
   },
   {
    "duration": 9,
    "start_time": "2025-02-03T23:22:27.890Z"
   },
   {
    "duration": 7,
    "start_time": "2025-02-03T23:22:27.901Z"
   },
   {
    "duration": 24,
    "start_time": "2025-02-03T23:22:27.910Z"
   },
   {
    "duration": 6,
    "start_time": "2025-02-03T23:22:27.936Z"
   },
   {
    "duration": 11,
    "start_time": "2025-02-03T23:22:27.945Z"
   },
   {
    "duration": 8,
    "start_time": "2025-02-03T23:22:27.959Z"
   },
   {
    "duration": 7,
    "start_time": "2025-02-03T23:22:27.969Z"
   },
   {
    "duration": 5,
    "start_time": "2025-02-03T23:22:27.980Z"
   },
   {
    "duration": 7,
    "start_time": "2025-02-03T23:22:27.987Z"
   },
   {
    "duration": 233,
    "start_time": "2025-02-03T23:22:27.998Z"
   },
   {
    "duration": 139,
    "start_time": "2025-02-03T23:22:28.233Z"
   },
   {
    "duration": 7,
    "start_time": "2025-02-03T23:22:28.375Z"
   },
   {
    "duration": 11,
    "start_time": "2025-02-03T23:22:28.384Z"
   },
   {
    "duration": 6,
    "start_time": "2025-02-03T23:22:28.397Z"
   },
   {
    "duration": 30,
    "start_time": "2025-02-03T23:22:28.404Z"
   },
   {
    "duration": 10,
    "start_time": "2025-02-03T23:22:28.436Z"
   },
   {
    "duration": 4,
    "start_time": "2025-02-03T23:22:28.449Z"
   },
   {
    "duration": 7,
    "start_time": "2025-02-03T23:22:28.456Z"
   },
   {
    "duration": 8,
    "start_time": "2025-02-03T23:22:28.465Z"
   },
   {
    "duration": 10,
    "start_time": "2025-02-03T23:22:28.474Z"
   },
   {
    "duration": 48,
    "start_time": "2025-02-03T23:22:28.486Z"
   },
   {
    "duration": 8,
    "start_time": "2025-02-03T23:22:28.536Z"
   },
   {
    "duration": 10,
    "start_time": "2025-02-03T23:22:28.545Z"
   },
   {
    "duration": 16,
    "start_time": "2025-02-03T23:22:28.556Z"
   },
   {
    "duration": 9,
    "start_time": "2025-02-03T23:22:28.576Z"
   },
   {
    "duration": 6,
    "start_time": "2025-02-03T23:26:57.700Z"
   },
   {
    "duration": 158,
    "start_time": "2025-02-04T12:33:01.712Z"
   },
   {
    "duration": 2398,
    "start_time": "2025-02-04T12:33:12.945Z"
   },
   {
    "duration": 15,
    "start_time": "2025-02-04T12:33:15.345Z"
   },
   {
    "duration": 10,
    "start_time": "2025-02-04T12:33:15.361Z"
   },
   {
    "duration": 8,
    "start_time": "2025-02-04T12:33:15.373Z"
   },
   {
    "duration": 6,
    "start_time": "2025-02-04T12:33:15.383Z"
   },
   {
    "duration": 5,
    "start_time": "2025-02-04T12:33:15.391Z"
   },
   {
    "duration": 5,
    "start_time": "2025-02-04T12:33:15.398Z"
   },
   {
    "duration": 5,
    "start_time": "2025-02-04T12:33:15.406Z"
   },
   {
    "duration": 9,
    "start_time": "2025-02-04T12:33:15.412Z"
   },
   {
    "duration": 48,
    "start_time": "2025-02-04T12:33:15.424Z"
   },
   {
    "duration": 6,
    "start_time": "2025-02-04T12:33:15.473Z"
   },
   {
    "duration": 5,
    "start_time": "2025-02-04T12:33:15.481Z"
   },
   {
    "duration": 5,
    "start_time": "2025-02-04T12:33:15.487Z"
   },
   {
    "duration": 188,
    "start_time": "2025-02-04T12:33:15.494Z"
   },
   {
    "duration": 137,
    "start_time": "2025-02-04T12:33:15.684Z"
   },
   {
    "duration": 9,
    "start_time": "2025-02-04T12:33:15.823Z"
   },
   {
    "duration": 8,
    "start_time": "2025-02-04T12:33:15.834Z"
   },
   {
    "duration": 5,
    "start_time": "2025-02-04T12:33:15.843Z"
   },
   {
    "duration": 20,
    "start_time": "2025-02-04T12:33:15.850Z"
   },
   {
    "duration": 4,
    "start_time": "2025-02-04T12:33:15.872Z"
   },
   {
    "duration": 9,
    "start_time": "2025-02-04T12:33:15.877Z"
   },
   {
    "duration": 4,
    "start_time": "2025-02-04T12:33:15.887Z"
   },
   {
    "duration": 6,
    "start_time": "2025-02-04T12:33:15.893Z"
   },
   {
    "duration": 6,
    "start_time": "2025-02-04T12:33:15.900Z"
   },
   {
    "duration": 9,
    "start_time": "2025-02-04T12:33:15.907Z"
   },
   {
    "duration": 10,
    "start_time": "2025-02-04T12:33:15.917Z"
   },
   {
    "duration": 7,
    "start_time": "2025-02-04T12:33:15.970Z"
   },
   {
    "duration": 8,
    "start_time": "2025-02-04T12:33:15.980Z"
   },
   {
    "duration": 8,
    "start_time": "2025-02-04T12:33:15.991Z"
   },
   {
    "duration": 5,
    "start_time": "2025-02-04T12:33:16.001Z"
   },
   {
    "duration": 12,
    "start_time": "2025-02-04T12:33:28.095Z"
   },
   {
    "duration": 4,
    "start_time": "2025-02-04T12:35:41.053Z"
   },
   {
    "duration": 6,
    "start_time": "2025-02-04T12:35:53.591Z"
   },
   {
    "duration": 742,
    "start_time": "2025-02-04T12:37:50.506Z"
   },
   {
    "duration": 8,
    "start_time": "2025-02-04T12:37:51.251Z"
   },
   {
    "duration": 12,
    "start_time": "2025-02-04T12:37:51.260Z"
   },
   {
    "duration": 7,
    "start_time": "2025-02-04T12:37:51.274Z"
   },
   {
    "duration": 7,
    "start_time": "2025-02-04T12:37:51.283Z"
   },
   {
    "duration": 6,
    "start_time": "2025-02-04T12:37:51.292Z"
   },
   {
    "duration": 5,
    "start_time": "2025-02-04T12:37:51.300Z"
   },
   {
    "duration": 6,
    "start_time": "2025-02-04T12:37:51.306Z"
   },
   {
    "duration": 8,
    "start_time": "2025-02-04T12:37:51.313Z"
   },
   {
    "duration": 48,
    "start_time": "2025-02-04T12:37:51.324Z"
   },
   {
    "duration": 6,
    "start_time": "2025-02-04T12:37:51.374Z"
   },
   {
    "duration": 4,
    "start_time": "2025-02-04T12:37:51.384Z"
   },
   {
    "duration": 4,
    "start_time": "2025-02-04T12:37:51.390Z"
   },
   {
    "duration": 203,
    "start_time": "2025-02-04T12:37:51.397Z"
   },
   {
    "duration": 138,
    "start_time": "2025-02-04T12:37:51.604Z"
   },
   {
    "duration": 5,
    "start_time": "2025-02-04T12:37:51.743Z"
   },
   {
    "duration": 8,
    "start_time": "2025-02-04T12:37:51.750Z"
   },
   {
    "duration": 4,
    "start_time": "2025-02-04T12:37:51.771Z"
   },
   {
    "duration": 4,
    "start_time": "2025-02-04T12:37:51.777Z"
   },
   {
    "duration": 13,
    "start_time": "2025-02-04T12:37:51.783Z"
   },
   {
    "duration": 4,
    "start_time": "2025-02-04T12:37:51.798Z"
   },
   {
    "duration": 10,
    "start_time": "2025-02-04T12:37:51.807Z"
   },
   {
    "duration": 4,
    "start_time": "2025-02-04T12:37:51.819Z"
   },
   {
    "duration": 6,
    "start_time": "2025-02-04T12:37:51.824Z"
   },
   {
    "duration": 42,
    "start_time": "2025-02-04T12:37:51.831Z"
   },
   {
    "duration": 9,
    "start_time": "2025-02-04T12:37:51.875Z"
   },
   {
    "duration": 9,
    "start_time": "2025-02-04T12:37:51.886Z"
   },
   {
    "duration": 5,
    "start_time": "2025-02-04T12:37:51.898Z"
   },
   {
    "duration": 7,
    "start_time": "2025-02-04T12:37:51.905Z"
   },
   {
    "duration": 8,
    "start_time": "2025-02-04T12:37:51.914Z"
   },
   {
    "duration": 6,
    "start_time": "2025-02-04T12:37:51.923Z"
   },
   {
    "duration": 5,
    "start_time": "2025-02-04T12:38:52.462Z"
   },
   {
    "duration": 2451,
    "start_time": "2025-02-04T22:48:40.604Z"
   },
   {
    "duration": 13,
    "start_time": "2025-02-04T22:48:43.058Z"
   },
   {
    "duration": 14,
    "start_time": "2025-02-04T22:48:43.072Z"
   },
   {
    "duration": 7,
    "start_time": "2025-02-04T22:48:43.088Z"
   },
   {
    "duration": 8,
    "start_time": "2025-02-04T22:48:43.098Z"
   },
   {
    "duration": 19,
    "start_time": "2025-02-04T22:48:43.108Z"
   },
   {
    "duration": 6,
    "start_time": "2025-02-04T22:48:43.128Z"
   },
   {
    "duration": 7,
    "start_time": "2025-02-04T22:48:43.136Z"
   },
   {
    "duration": 17,
    "start_time": "2025-02-04T22:48:43.145Z"
   },
   {
    "duration": 30,
    "start_time": "2025-02-04T22:48:43.163Z"
   },
   {
    "duration": 5,
    "start_time": "2025-02-04T22:48:43.195Z"
   },
   {
    "duration": 4,
    "start_time": "2025-02-04T22:48:43.202Z"
   },
   {
    "duration": 5,
    "start_time": "2025-02-04T22:48:43.208Z"
   },
   {
    "duration": 196,
    "start_time": "2025-02-04T22:48:43.215Z"
   },
   {
    "duration": 139,
    "start_time": "2025-02-04T22:48:43.414Z"
   },
   {
    "duration": 8,
    "start_time": "2025-02-04T22:48:43.555Z"
   },
   {
    "duration": 9,
    "start_time": "2025-02-04T22:48:43.564Z"
   },
   {
    "duration": 16,
    "start_time": "2025-02-04T22:48:43.574Z"
   },
   {
    "duration": 11,
    "start_time": "2025-02-04T22:48:43.591Z"
   },
   {
    "duration": 3,
    "start_time": "2025-02-04T22:48:43.604Z"
   },
   {
    "duration": 6,
    "start_time": "2025-02-04T22:48:43.609Z"
   },
   {
    "duration": 6,
    "start_time": "2025-02-04T22:48:43.618Z"
   },
   {
    "duration": 9,
    "start_time": "2025-02-04T22:48:43.626Z"
   },
   {
    "duration": 9,
    "start_time": "2025-02-04T22:48:43.637Z"
   },
   {
    "duration": 7,
    "start_time": "2025-02-04T22:48:43.686Z"
   },
   {
    "duration": 10,
    "start_time": "2025-02-04T22:48:43.695Z"
   },
   {
    "duration": 7,
    "start_time": "2025-02-04T22:48:43.708Z"
   },
   {
    "duration": 5,
    "start_time": "2025-02-04T22:48:43.716Z"
   },
   {
    "duration": 5,
    "start_time": "2025-02-04T22:49:34.442Z"
   }
  ],
  "kernelspec": {
   "display_name": "Python 3 (ipykernel)",
   "language": "python",
   "name": "python3"
  },
  "language_info": {
   "codemirror_mode": {
    "name": "ipython",
    "version": 3
   },
   "file_extension": ".py",
   "mimetype": "text/x-python",
   "name": "python",
   "nbconvert_exporter": "python",
   "pygments_lexer": "ipython3",
   "version": "3.9.19"
  },
  "toc": {
   "base_numbering": 1,
   "nav_menu": {},
   "number_sections": true,
   "sideBar": true,
   "skip_h1_title": true,
   "title_cell": "Table of Contents",
   "title_sidebar": "Contents",
   "toc_cell": false,
   "toc_position": {},
   "toc_section_display": true,
   "toc_window_display": false
  }
 },
 "nbformat": 4,
 "nbformat_minor": 2
}
